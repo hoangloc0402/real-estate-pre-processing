{
 "cells": [
  {
   "cell_type": "code",
   "execution_count": 98,
   "metadata": {},
   "outputs": [],
   "source": [
    "import glob\n",
    "import ast\n",
    "import data_utils\n",
    "import unicode_utils \n",
    "import data_utils\n",
    "from sklearn.feature_extraction.text import TfidfVectorizer"
   ]
  },
  {
   "cell_type": "code",
   "execution_count": 2,
   "metadata": {},
   "outputs": [],
   "source": [
    "def read_all_txt_file(directiry_path):\n",
    "    txt_files = glob.glob(directiry_path + '/*.txt')\n",
    "    for file in txt_files:\n",
    "        text = open(file, 'r', encoding = 'utf-8').read()\n",
    "        text = unicode_utils.compound2unicode(text)\n",
    "        yield text"
   ]
  },
  {
   "cell_type": "code",
   "execution_count": 36,
   "metadata": {},
   "outputs": [],
   "source": [
    "path = '/home/cpu10133-local/Downloads/test/'\n",
    "texts = read_all_txt_file(path)\n",
    "s = list()\n",
    "for text in texts: \n",
    "    re_dict = ast.literal_eval(text)\n",
    "    string = unicode_utils.compound2unicode(re_dict['description'])\n",
    "    string = data_utils.remove_special_char(string)\n",
    "    string = data_utils.tokenize(string)\n",
    "    s.append(string)"
   ]
  },
  {
   "cell_type": "code",
   "execution_count": 35,
   "metadata": {},
   "outputs": [],
   "source": [
    "# print(s)"
   ]
  },
  {
   "cell_type": "code",
   "execution_count": 119,
   "metadata": {},
   "outputs": [],
   "source": [
    "max_df = 1.0\n",
    "min_df = 0.003\n",
    "tfidf_vtrzr = TfidfVectorizer(input = 'string', max_df = max_df, min_df = min_df)"
   ]
  },
  {
   "cell_type": "code",
   "execution_count": 120,
   "metadata": {},
   "outputs": [],
   "source": [
    "matrix = tfidf_vtrzr.fit(s)"
   ]
  },
  {
   "cell_type": "code",
   "execution_count": 121,
   "metadata": {},
   "outputs": [],
   "source": [
    "def has_num(s):\n",
    "    return any(i.isdigit() for i in s)\n",
    "a = list()\n",
    "for i in matrix.stop_words_:\n",
    "    if not has_num(i):\n",
    "        if not '_' in i:\n",
    "            a.append(i)"
   ]
  },
  {
   "cell_type": "code",
   "execution_count": 122,
   "metadata": {},
   "outputs": [
    {
     "name": "stdout",
     "output_type": "stream",
     "text": [
      "['trđ', 'this', 'thăng', 'cừc', 'has', 'phiền', 'nôi', 'phẳng', 'khánh', 'food', 'khung', 'inside', 'manulife', 'lk', 'trừng', 'karaoke', 'quà', 'plazza', 'bạc', 'nguời', 'chothuê', 'chỏ', 'email', 'dắt', 'tạm', 'vpcty', 'dragon', 'lơn', 'daily', 'decord', 'môi', 'viu', 'modern', 'valy', 'ngơi', 'phép', 'cụm', 'app', 'khủng', 'cabinets', 'dcăn', 'thiêt', 'saphire', 'bvis', 'thep', 'brasil', 'nghiêng', 'apratment', 'phím', 'qk', 'op', 'tuỳ', 'xá', 'eximbank', 'dep', 'visit', 'york', 'bồ', 'vải', 'nghĩ', 'kịch', 'thải', 'vihomes', 'auchanc', 'hớn', 'cleaning', 'picnic', 'cư', 'ghi', 'cty', 'toyota', 'cừ', 'xinh', 'ca', 'penhoue', 'residences', 'ck', 'xoong', 'nhựa', 'direct', 'balcoly', 'tea', 'toiltet', 'supper', 'văn', 'vương', 'stop', 'size', 'nhún', 'elevators', 'thô', 'thằng', 'bả', 'moving', 'hủ', 'from', 'voi', 'tở', 'holdings', 'lottemark', 'mũi', 'rau', 'đay', 'bowling', 'sunrice', 'huflit', 'conditioner', 'ntđđ', 'xoan', 'còi', 'am', 'between', 'suối', 'sum', 'orchid', 'huteck', 'lành', 'dép', 'quan', 'xen', 'tennic', 'buồng', 'phe', 'acoustic', 'tiềnhoàng', 'chứng', 'tk', 'băng', 'ceramic', 'rước', 'hêt', 'buildings', 'television', 'hsbc', 'cua', 'hạn', 'nuớc', 'sắn', 'more', 'hẩm', 'cũa', 'furniture', 'no', 'greenvalley', 'kiệt', 'newcity', 'maketting', 'kd', 'inclus', 'parkinglot', 'rượu', 'ngắn', 'sensor', 'hóng', 'cơn', 'philip', 'ôi', 'mkt', 'project', 'goldview', 'thuôc', 'chọi', 'quyên', 'nhât', 'inetrnet', 'thấ', 'penthosue', 'mạng', 'nvvp', 'nính', 'hôm', 'thoán', 'khuôn', 'operation', 'compound', 'dô', 'behind', 'quy', 'ichs', 'tbn', 'sacomreal', 'thắc', 'đài', 'toalet', 'ân', 'càng', 'tú', 'bang', 'good', 'tre', 'can', 'sctv', 'jacuzzi', 'giất', 'kh', 'ghé', 'systemforroom', 'palaza', 'lottel', 'golt', 'thức', 'sacombank', 'nhám', 'bát', 'logia', 'opal', 'kê', 'nhôm', 'dồi', 'xíu', 'tree', 'nàу', 'địɑ', 'nhớ', 'yhasng', 'nambdspro', 'hội', 'lọi', 'thap', 'qtan', 'graden', 'dể', 'tg', 'sgd', 'dương', 'đẻ', 'phụ', 'dd', 'web', 'party', 'bridge', 'trơi', 'villa', 'phụng', 'clb', 'tạ', 'rưởi', 'toanh', 'fitness', 'vụ', 'hnay', 'trade', 'tramg', 'setup', 'dv', 'tám', 'walk', 'nguyễn', 'gam', 'gđ', 'flemington', 'phúc', 'cằn', 'vuvuzela', 'ảbạn', 'fanpage', 'cạn', 'thể', 'han', 'sat', 'kđt', 'đà', 'vivocity', 'been', 'cn', 'sần', 'nvlinh', 'cable', 'located', 'roognj', 'mớ', 'cúm', 'sầm', 'tri', 'đun', 'diệp', 'ciyland', 'khalii', 'ngù', 'sẳn', 'window', 'tx', 'same', 'di', 'cđt', 'saigonres', 'vinhempic', 'sác', 'tran', 'wfifi', 'coffe', 'ks', 'swimming', 'vr', 'thuế', 'hông', 'bancon', 'rút', 'everrich', 'proview', 'trtroongsview', 'grap', 'floor', 'sinrise', 'cát', 'rào', 'họăn', 'facade', 'dẫm', 'thổi', 'quick', 'rèn', 'rc', 'vuônng', 'keeping', 'two', 'tâp', 'bé', 'triều', 'hùng', 'korn', 'tti', 'vàng', 'gốc', 'bêp', 'ddderexe', 'way', 'gíá', 'óc', 'hẹngiờ', 'chìa', 'ện', 'tớ', 'greenview', 'offictel', 'techcombank', 'trị', 'rai', 'bxmđ', 'fulbright', 'gòn', 'chíu', 'dâ', 'rằng', 'thoãi', 'chẳng', 'truyền', 'etow', 'đảm', 'tế', 'adamkhoo', 'bế', 'ờng', 'úc', 'ơi', 'bèo', 'vc', 'bàntrangđiểm', 'lốc', 'babylon', 'đễ', 'rỏ', 'lưng', 'thẳng', 'mã', 'vẽ', 'thảo', 'millenium', 'combo', 'equipment', 'cressmall', 'including', 'phò', 'dù', 'liễu', 'đru', 'quãng', 'bic', 'comforts', 'vpđd', 'chấp', 'hẽm', 'citizen', 'ngại', 'đũa', 'ps', 'qtân', 'palm', 'hiếu', 'messeger', 'nin', 'chiểu', 'đỉnh', 'chất', 'vách', 'trao', 'checkin', 'sms', 'design', 'xảy', 'phan', 'mark', 'mơ', 'kấu', 'access', 'chai', 'xi', 'hộc', 'tươi', 'lít', 'đắt', 'sàng', 'baybay', 'sinvaland', 'că', 'vặt', 'nhăn', 'batdongsanphumyhung', 'rao', 'thuể', 'áp', 'khống', 'thà', 'bathroom', 'thập', 'viêc', 'waoooo', 'vũ', 'út', 'proviewland', 'keppel', 'chdv', 'gol', 'thêmcần', 'chừ', 'khoản', 'muỗng', 'viêw', 'đánh', 'services', 'july', 'phẩn', 'cay', 'giỏ', 'along', 'gân', 'sưởi', 'trăm', 'kịp', 'hạnh', 'lothouse', 'lụa', 'gường', 'control', 'cool', 'giạt', 'dienjo', 'capitaland', 'suê', 'laza', 'nhân', 'designs', 'want', 'xưa', 'gắp', 'đệ', 'inox', 'officete', 'lẻ', 'thápsapphire', 'cái', 'curtain', 'phóng', 'quả', 'cự', 'cresrent', 'nột', 'such', 'gữi', 'cis', 'makerting', 'fast', 'rosa', 'pointe', 'royal', 'mét', 'hòang', 'proman', 'kỹ', 'chánh', 'lừa', 'xu', 'tôn', 'lẻo', 'ốp', 'hiệp', 'thuân', 'thóat', 'thg', 'đựng', 'school', 'nguồn', 'lê', 'fa', 'dishwasher', 'kdt', 'hảy', 'thịnh', 'đườg', 'xxx', 'centralgarden', 'tàu', 'reverside', 'chui', 'xung', 'đất', 'gian', 'trợ', 'lồng', 'kiển', 'gái', 'quantan', 'those', 'dãy', 'ah', 'nưa', 'scenich', 'hẹ', 'giườngngủ', 'toillet', 'none', 'terrace', 'celadon', 'kg', 'tách', 'nancy', 'exhaustion', 'đực', 'thóang', 'phos', 'shcđ', 'duplex', 'almost', 'giáo', 'empire', 'ghê', 'mưới', 'lơi', 'hqc', 'đượctư', 'hilam', 'bật', 'fortuna', 'độc', 'trộm', 'tgdđ', 'building', 'chúng', 'thạnhn', 'bridgeview', 'ph', 'nv', 'dây', 'lexington', 'penhouse', 'level', 'cannada', 'rời', 'sổ', 'cống', 'phượng', 'cu', 'mone', 'quậntb', 'ngưòi', 'mười', 'phòngđược', 'gyms', 'maill', 'vico', 'dựa', 'dc', 'fountain', 'maximrak', 'basement', 'fulll', 'markets', 'bếphồngngoại', 'camel', 'khô', 'làng', 'tiết', 'tráng', 'bùi', 'hãng', 'điểu', 'lacoland', 'ngáy', 'ɲhà', 'đakao', 'phái', 'derco', 'linen', 'sườn', 'techcons', 'managed', 'giùm', 'aview', 'nh', 'mạc', 'đổi', 'xoạy', 'toliet', 'bá', 'pizza', 'deco', 'immediate', 'hoạc', 'bệnh', 'sports', 'nghe', 'ngu', 'thoả', 'bự', 'cam', 'sofabed', 'ẹp', 'toản', 'riveside', 'bảy', 'much', 'lanh', 'very', 'chia', 'tttp', 'pt', 'nghề', 'if', 'opmart', 'bân', 'thoảng', 'dậu', 'mg', 'chuyện', 'léman', 'ruby', 'motel', 'ich', 'qt', 'chợi', 'https', 'may', 'furnisture', 'diên', 'cạch', 'nhan', 'pham', 'compared', 'bám', 'gẻ', 'ay', 'adamas', 'chĩ', 'dược', 'tn', 'children', 'cường', 'versatile', 'gói', 'class', 'khó', 'beer', 'bason', 'già', 'rooms', 'make', 'khín', 'thao', 'canhodichvusg', 'nàng', 'thue', 'tecco', 'cab', 'tmdv', 'www', 'toán', 'trâm', 'phấm', 'keo', 'địa', 'trương', 'bồm', 'xan', 'mia', 'cưc', 'deposit', 'đbp', 'passio', 'bời', 'feel', 'huyên', 'mơi', 'advice', 'dtsd', 'đê', 'dict', 'vẻ', 'vison', 'giống', 'dán', 'rọng', 'anđể', 'bưa', 'gởi', 'highway', 'serviced', 'tầnghien', 'ám', 'kikyo', 'hổ', 'cụt', 'svđ', 'soạn', 'foot', 'pql', 'lướt', 'trật', 'kenton', 'dercor', 'go', 'chyển', 'miami', 'não', 'shock', 'tấm', 'thuyết', 'tbinh', 'light', 'facilities', 'troi', 'thưc', 'chũng', 'cheap', 'nhầ', 'mền', 'mống', 'etc', 'provieew', 'yến', 'nhờ', 'khh', 'people', 'quoanh', 'den', 'nhi', 'mấy', 'scb', 'hảo', 'intercom', 'sarimi', 'rental', 'dàng', 'vầ', 'bức', 'maý', 'ngang', 'set', 'nhe', 'bấy', 'vimcom', 'chóng', 'thuong', 'home', 'đằng', 'le', 'tương', 'cong', 'họp', 'lệch', 'hõ', 'imperia', 'ƅạn', 'granite', 'gổ', 'vốn', 'vi', 'convenient', 'applications', 'êm', 'diệm', 'đỉa', 'csnd', 'veieenj', 'dining', 'laudọnphòng', 'my', 'bung', 'duy', 'bql', 'chuyến', 'gạt', 'nhượng', 'khỏe', 'phòn', 'gâp', 'albus', 'docklands', 'tăm', 'deli', 'tíchb', 'chá', 'cộng', 'mẫu', 'japan', 'chốc', 'dich', 'dủ', 'quốc', 'hải', 'chiêu', 'thị', 'message', 'trí', 'váo', 'teka', 'airport', 'giãn', 'mât', 'quanlity', 'cơm', 'face', 'đnag', 'nau', 'bài', 'vệ', 'bớt', 'scandi', 'cotton', 'nửa', 'choi', 'bố', 'khoan', 'king', 'đai', 'chớp', 'mặn', 'some', 'botanica', 'nhấn', 'ctplaza', 'chà', 'săn', 'location', 'circle', 'trái', 'yame', 'thấm', 'cấc', 'xuyên', 'khơi', 'thoại', 'nỡ', 'bidv', 'đọ', 'check', 'nêm', 'havard', 'harmona', 'ruộng', 'skyview', 'play', 'wyu', 'mot', 'dĩa', 'imess', 'nghiêm', 'vđề', 'láy', 'vượt', 'hoài', 'vơi', 'hscb', 'nhàn', 'towers', 'cục', 'sắm', 'mội', 'decore', 'san', 'suất', 'wardrobe', 'điền', 'việp', 'samsung', 'ftu', 'phim', 'skyway', 'spacious', 'nâu', 'vay', 'đuong', 'satra', 'lể', 'royaltea', 'giang', 'màn', 'bấm', 'kỳ', 'master', 'làn', 'quen', 'put', 'lực', 'chói', 'scres', 'yen', 'cuộc', 'tu', 'ti', 'thái', 'later', 'la', 'higland', 'kể', 'hiền', 'quạn', 'rmith', 'chín', 'trọng', 'quân', 'đĩa', 'many', 'thanks', 'best', 'members', 'dậy', 'sport', 'electricity', 'dạy', 'nhằm', 'corpmart', 'hưnghộ', 'mm', 'ghếm', 'bhd', 'up', 'ly', 'heights', 'tậm', 'khõi', 'lương', 'bigemco', 'pvh', 'răng', 'bmc', 'is', 'hecta', 'on', 'đảo', 'fi', 'smartphone', 'chat', 'giấc', 'easter', 'bossmart', 'suitable', 'chừng', 'dinh', 'liện', 'pv', 'rưỡi', 'ii', 'quỳnh', 'nầy', 'smartkey', 'nhì', 'golden', 'sảng', 'html', 'dộng', 'xịn', 'trai', 'ngươi', 'dích', 'siết', 'xuaan', 'mạ', 'bản', 'tài', 'panaroma', 'hiêp', 'it', 'rhương', 'hdbank', 'trưa', 'land', 'vcb', 'thơm', 'triệud', 'ông', 'buck', 'malloca', 'đô', 'né', 'củ', 'vision', 'sử', 'nó', 'quế', 'dười', 'sấy', 'cotec', 'bện', 'giành', 'dao', 'offices', 'ki', 'chào', 'ts', 'cv', 'tcl', 'vvv', 'tourist', 'thân', 'pushpin', 'markerting', 'cameera', 'safe', 'lễ', 'thống', 'tiếc', 'phu', 'oficcetel', 'dừng', 'ổn', 'labo', 'bàng', 'dường', 'hoặ', 'dến', 'at', 'giàu', 'uef', 'son', 'oke', 'hagl', 'khú', 'km', 'mni', 'makeup', 'cữa', 'ván', 'gof', 'hueledang', 'sôfa', 'sunhouse', 'tấn', 'sáu', 'thi', 'goldhouse', 'sản', 'fee', 'nĩa', 'share', 'trưc', 'saigon', 'washing', 'thạch', 'shaer', 'sinhh', 'ngồi', 'trinh', 'centrak', 'resident', 'thóng', 'cử', 'khen', 'cityview', 'look', 'chảo', 'move', 'service', 'hiểm', 'nhóm', 'ninh', 'switch', 'cá', 'bep', 'đương', 'mảng', 'nn', 'chốt', 'buffet', 'quấn', 'eaon', 'nữ', 'cammera', 'lăng', 'đườnghoàng', 'phương', 'nail', 'thảm', 'audio', 'mõi', 'khoáng', 'ok', 'lolttemart', 'sauna', 'gách', 'ngâng', 'rieng', 'lá', 'rùa', 'quẹt', 'wiu', 'as', 'hiến', 'veder', 'ministop', 'dh', 'fai', 'id', 'dảm', 'only', 'enjoy', 'shoping', 'khanh', 'chơ', 'hế', 'gàn', 'mít', 'át', 'mại', 'horizon', 'choose', 'tốn', 'đợi', 'room', 'chòng', 'vietnam', 'biệt', 'phẵng', 'thui', 'gymnasium', 'palace', 'showbiz', 'mien', 'trạc', 'dropp', 'thỉ', 'huy', 'chế', 'there', 'nghj', 'đít', 'lotus', 'vlh', 'rổ', 'lớp', 'quầy', 'hét', 'refrigerator', 'hà', 'creson', 'pasteur', 'hường', 'trg', 'ct', 'bp', 'misubishi', 'hafele', 'kfc', 'high', 'ƭhang', 'bât', 'tậng', 'mc', 'tên', 'bow', 'computer', 'waiting', 'bơ', 'đưvơng', 'gardent', 'đúc', 'tẻ', 'phòg', 'chứ', 'slogan', 'phùng', 'jomona', 'xắp', 'vp', 'tác', 'lịnh', 'vạn', 'ngõ', 'supermarkets', 'đhnt', 'động', 'đg', 'kp', 'microwave', 'biển', 'bark', 'viết', 'nhiêu', 'advantage', 'find', 'bà', 'drag', 'lưới', 'spm', 'thủ', 'thoang', 'highlands', 'likenhà', 'đỡ', 'be', 'utilities', 'posts', 'rữa', 'fuul', 'sư', 'large', 'phuc', 'rò', 'tiẹ', 'hills', 'honda', 'oven', 'chọ', 'viẹc', 'jardin', 'gôn', 'clothing', 'khuất', 'couch', 'now', 'chiếu', 'will', 'hầu', 'res', 'area', 'leo', 'ngành', 'thánghãy', 'phònh', 'đứa', 'trưng', 'still', 'thoải', 'thank', 'đả', 'ghép', 'quần', 'sai', 'cỡ', 'piano', 'khắc', 'information', 'kiếng', 'dầy', 'nang', 'pandora', 'stras', 'plv', 'ntcc', 'ôtô', 'dợt', 'lhz', 'khuya', 'lien', 'họng', 'xenm', 'diệu', 'citimarkt', 'tụ', 'tâng', 'ofice', 'nhiệt', 'relax', 'position', 'đt', 'chothuephong', 'lỡ', 'thìa', 'kha', 'maximart', 'lau', 'inch', 'nhiêt', 'thương', 'wonderland', 'lardmark', 'nhẹ', 'eêm', 'ao', 'tai', 'lanmark', 'hỏi', 'uất', 'trần', 'nẹ', 'sen', 'trng', 'chothueapartment', 'bánh', 'country', 'vắp', 'niềm', 'tổng', 'tiên', 'chùa', 'lao', 'which', 'gtvt', 'sala', 'link', 'giạ', 'handed', 'khăn', 'kilowatt', 'cặp', 'vlley', 'inbox', 'luân', 'tịch', 'se', 'ham', 'gôm', 'viettopia', 'sắc', 'lowe', 'fun', 'xổ', 'minhgiá', 'tuấ', 'bowl', 'chụp', 'tũ', 'phù', 'apartmentforleasehcm', 'hiểu', 'cỏ', 'gim', 'beauty', 'beds', 'kiki', 'lung', 'tuyền', 'lắm', 'coffice', 'paragon', 'lựa', 'bải', 'gm', 'chothuecanho', 'quậntân', 'miến', 'morden', 'served', 'reception', 'lận', 'lộc', 'kiếm', 'wireless', 'xư', 'mèo', 'tsn', 'nghiệp', 'bừng', 'cảng', 'xịt', 'kindergarten', 'show', 'details', 'pnfull', 'diện', 'cha', 'them', 'global', 'lamp', 'balcong', 'hoan', 'rông', 'tien', 'billed', 'base', 'hitachi', 'canteen', 'trùm', 'tí', 'cầm', 'thú', 'sàm', 'columbia', 'gây', 'http', 'maximaxx', 'likecho', 'olymbic', 'msthủy', 'massage', 'closet', 'sựu', 'vinmark', 'nguyệt', 'vượng', 'hợp', 'chậm', 'thoái', 'info', 'dạ', 'ngạy', 'roongjt', 'dồng', 'tb', 'months', 'plus', 'lotter', 'real', 'maxximax', 'lãm', 'xali', 'lottermart', 'cưới', 'trɑng', 'garte', 'chấm', 'đấy', 'dư', 'aeonmail', 'song', 'nếp', 'đển', 'đại', 'map', 'bưởi', 'living', 'gon', 'tiển', 'mời', 'cảm', 'đươc', 'tiivi', 'luật', 'vstar', 'vantrien', 'bỏ', 'tôt', 'highland', 'bệ', 'clp', 'chặn', 'center', 'sẹc', 'kư', 'hoc', 'chothuephongtro', 'hộa', 'kyta', 'plasma', 'acr', 'nhật', 'vpbank', 'dị', 'banks', 'dakao', 'saphaire', 'zion', 'brilliant', 'parking', 'rảnh', 'nhịp', 'phá', 'ntcb', 'furnished', 'phần', 'uốn', 'lâu', 'sana', 'mắc', 'luxurious', 'vể', 'streets', 'top', 'en', 'huê', 'flora', 'starbuck', 'bàu', 'amenities', 'nikko', 'triễn', 'phê', 'gap', 'cressent', 'qphú', 'đepj', 'qận', 'sopha', 'kitchen', 'trôi', 'ntdd', 'crescen', 'scneic', 'ford', 'biế', 'bạch', 'aia', 'trú', 'wilton', 'north', 'nghiêp', 'ngả', 'bôn', 'thât', 'leed', 'warm', 'heaven', 'tắc', 'cáρ', 'trọn', 'deciduous', 'ồn', 'hill', 'bệt', 'ưu', 'vấn', 'superbowl', 'hvt', 'tks', 'chăm', 'chí', 'estate', 'cricrle', 'gg', 'rivepark', 'ngặp', 'gs', 'luxury', 'nổ', 'ubnd', 'other', 'dấu', 'phi', 'with', 'newhouse', 'thê', 'vvalley', 'siss', 'nướn', 'gò', 'kín', 'cứ', 'điếm', 'tê', 'nình', 'estella', 'giai', 'giở', 'nốt', 'bì', 'lăm', 'scvivo', 'ƭiện', 'gv', 'air', 'club', 'botanic', 'premium', 'vien', 'quẹo', 'mê', 'gt', 'khoa', 'nghiem', 'ready', 'dan', 'cóbệnh', 'lửa', 'sẻ', 'ace', 'mặc', 'you', 'lủ', 'ngước', 'chẽm', 'vuong', 'caaso', 'rât', 'toan', 'nêu', 'vivu', 'system', 'trông', 'bảng', 'thộng', 'centeter', 'scv', 'đien', 're', 'transactional', 'đinh', 'ƭự', 'xã', 'rạch', 'loan', 'điên', 'phòngtắmđứng', 'nhung', 'hính', 'thôn', 'supermarket', 'hành', 'chothuephongfullnoithat', 'đêu', 'tết', 'market', 'nghɩệp', 'mẽ', 'hd', 'xay', 'savills', 'mrs', 'kien', 'ddnt', 'apament', 'dra', 'rêng', 'măt', 'lg', 'customers', 'vực', 'st', 'ngân', 'thưởng', 'he', 'lài', 'mỏi', 'chữ', 'floritar', 'vin', 'dừa', 'transportation', 'sunview', 'giâc', 'wi', 'alon', 'tollet', 'mối', 'chún', 'vinatex', 'gogi', 'khải', 'coteccons', 'đẩy', 'tang', 'dien', 'cân', 'ngữ', 'bốn', 'hood', 'balcon', 'biên', 'viba', 'romantic', 'noi', 'cop', 'đốt', 'new', 'khaisilk', 'khach', 'sam', 'cà', 'hole', 'kimdan', 'mãy', 'cac', 'ghét', 'video', 'thăm', 'kiêm', 'hair', 'kdl', 'trừ', 'renaissance', 'đế', 'đoàn', 'ưng', 'lapool', 'giáy', 'chateau', 'wall', 'nền', 'nguyen', 'chậu', 'legavillas', 'cantavil', 'kí', 'nè', 'chup', 'boots', 'minimart', 'carillon', 'delicate', 'greentvalley', 'đáng', 'thong', 'electrical', 'coopmark', 'áng', 'bds', 'nhậu', 'creacent', 'condo', 'dốc', 'typhubatdongsan', 'săm', 'hờ', 'túi', 'imax', 'khiển', 'contributed', 'furnitures', 'kymdan', 'orchard', 'picoplaza', 'pntechcons', 'dẹ', 'tttl', 'sạn', 'ấn', 'chó', 'gara', 'nhaa', 'cmt', 'khỏi', 'whasapp', 'hồng', 'xầm', 'họ', 'linh', 'maximark', 'khép', 'parkson', 'grand', 'ví', 'kiên', 'hơp', 'vòa', 'success', 'iii', 'mỏng', 'riverview', 'needs', 'bank', 'qbình', 'lai', 'vinke', 'đơn', 'sâu', 'lợi', 'tụt', 'pannorama', 'nahf', 'aoen', 'tuổi', 'nghĩa', 'tell', 'thoai', 'toilets', 'mn', 'phồng', 'toi', 'tùng', 'pjong', 'terarosa', 'homestay', 'rẽ', 'bill', 'cnc', 'thuecanho', 'nhfa', 'húy', 'chư', 'tan', 'khổ', 'bìa', 'pòng', 'bông', 'phổi', 'door', 'nghị', 'miên', 'triêu', 'tvi', 'ngây', 'khí', 'đậm', 'cout', 'homes', 'đặc', 'phát', 'bas', 'vu', 'tia', 'uy', 'đẹpkhu', 'khôi', 'sắt', 'maximax', 'taxi', 'roads', 'over', 'mekong', 'thanh', 'nghen', 'vây', 'ghếtrangđiểm', 'bitechco', 'sfa', 'vị', 'mega', 'kéo', 'mil', 'tô', 'simple', 'citimart', 'book', 'gd', 'vên', 'khai', 'đáy', 'grab', 'melody', 'phủ', 'giọng', 'bắt', 'trượt', 'hospitals', 'mh', 'paroda', 'nowzone', 'vascara', 'bắc', 'khoá', 'lavabo', 'hỷ', 'phước', 'ngừời', 'kinh', 'indochina', 'wf', 'otô', 'parallel', 'nghành', 'sánh', 'also', 'chòi', 'malaysia', 'completely', 'zakka', 'but', 'phẩm', 'line', 'tenis', 'câu', 'chinh', 'version', 'tựa', 'hung', 'nhaaa', 'ac', 'dung', 'lottemart', 'calmette', 'aequent', 'addition', 'va', 'add', 'panasonic', 'hearing', 'giuờng', 'number', 'tđt', 'thiêu', 'khương', 'height', 'quẳng', 'square', 'tức', 'hillls', 'hài', 'nhiêù', 'giăt', 'hômnay', 'cnv', 'conditioning', 'huyện', 'bida', 'tiềnnguyễn', 'thuên', 'rubyland', 'đn', 'tìn', 'giuowfng', 'tuyển', 'infinity', 'lặng', 'nói', 'ciy', 'ngọc', 'lập', 'tăng', 'hót', 'duhal', 'star', 'iện', 'sốc', 'security', 'thám', 'tich', 'officel', 'multiple', 'adsl', 'contract', 'đình', 'kcn', 'chửa', 'lake', 'bicx', 'velly', 'sun', 'viste', 'vè', 'tríthật', 'thác', 'bathrooms', 'than', 'south', 'zallo', 'mọc', 'duyên', 'sony', 'vướng', 'ghe', 'connected', 'trụ', 'newsaigon', 'thờ', 'water', 'canh', 'lãng', 'tĩnh', 'lock', 'chothuephongtrocaocap', 'era', 'hậu', 'are', 'mon', 'quyền', 'dịu', 'tròn', 'lon', 'cập', 'gɑra', 'style', 'xuất', 'vĩnh', 'liệu', 'cresscent', 'kinds', 'điẹ', 'tresor', 'men', 'remodeled', 'nhu', 'lâm', 'giu', 'két', 'ssang', 'hxh', 'nghỉ', 'wiew', 'mruy', 'scienic', 'holding', 'nguoi', 'lộ', 'copy', 'apartments', 'hữu', 'đàn', 'sa', 'bh', 'terra', 'bọc', 'tín', 'vietcombank', 'diêm', 'hời', 'bit', 'ddh', 'sale', 'cưng', 'bacony', 'hướ', 'nàm', 'đejp', 'vinh', 'miễ', 'vo', 'update', 'org', 'thiệt', 'finished', 'bênh', 'nest', 'nowzon', 'billion', 'chả', 'couple', 'vẹ', 'sỡ', 'trược', 'lòng', 'pearl', 'ht', 'mb', 'trêt', 'cp', 'quây', 'parkland', 'nnl', 'vợ', 'vao', 'chê', 'vàii', 'hí', 'lãnh', 'pool', 'mnn', 'sào', 'negotiable', 'loitte', 'môn', 'toilét', 'boulevard', 'dưỡng', 'savimex', 'vy', 'gá', 'bancony', 'centrally', 'holine', 'expat', 'cẩn', 'hé', 'gập', 'remote', 'mãn', 'khiến', 'equatorial', 'bụi', 'biêt', 'shopping', 'cắt', 'chốn', 'tenic', 'california', 'nguyễ', 'tt', 'quậ', 'all', 'fully', 'citi', 'don', 'hiếm', 'giầy', 'noel', 'hơi', 'bền', 'ml', 'giấp', 'plaza', 'lượng', 'thõa', 'secure', 'inherited', 'stuido', 'sd', 'sanyo', 'floors', 'vinhmec', 'around', 'cos', 'oan', 'address', 'sôc', 'minutes', 'giật', 'lững', 'ones', 'phân', 'bancong', 'đắm', 'văng', 'tất', 'bận', 'mtg', 'fotuna', 'hang', 'elite', 'day', 'tiểu', 'giới', 'lot', 'hcmc', 'raibo', 'open', 'nlb', 'sim', 'kím', 'đền', 'sốn', 'family', 'đạp', 'senic', 'mệt', 'đắc', 'man', 'chương', 'mansion', 'silver', 'cali', 'môt', 'truwownghf', 'dụng', 'hệmr', 'motorbikes', 'phỏng', 'phun', 'biểu', 'gu', 'tung', 'nuoc', 'bright', 'tone', 'tm', 'voucher', 'super', 'eximland', 'capnet', 'nu', 'quality', 'hoà', 'mĩ', 'miền', 'regional', 'sinva', 'dàn', 'nộ', 'pack', 'ami', 'lẫn', 'toilettes', 'tứ', 'inax', 'mitsubisi', 'tong', 'cafeteria', 'outdoor', 'mat', 'ssis', 'homyland', 'lưu', 'coopmar', 'viettel', 'đày', 'hàn', 'rừng', 'nỗi', 'vâng', 'toielt', 'residents', 'đện', 'gàng', 'bay', 'risidence', 'chu', 'kia', 'inte', 'kangaroo', 'tràng', 'sồi', 'lẹ', 'xug', 'nghặt', 'nhái', 'tocotoco', 'nút', 'krista', 'vứt', 'nvs', 'nhứng', 'sức', 'auchan', 'thầy', 'daikin', 'fỏ', 'vietcombaank', 'lan', 'bày', 'tloet', 'lobby', 'agribank', 'valet', 'landtalk', 'idico', 'starhill', 'parkview', 'bầu', 'ƅè', 'hl', 'rẻm', 'sih', 'street', 'xăng', 'siks', 'tranh', 'thả', 'đổ', 'thử', 'kao', 'tole', 'lease', 'đo', 'zacoland', 'phap', 'ớc', 'vò', 'đò', 'chưng', 'cầy', 'converce', 'gánh', 'dần', 'thoát', 'bqq', 'huyền', 'feleiz', 'coopfood', 'residential', 'trồng', 'vấp', 'goi', 'cityland', 'mẹ', 'stiudio', 'bancoly', 'couples', 'ngán', 'kẹ', 'screc', 'òm', 'mến', 'padora', 'li', 'cháu', 'inverter', 'gadgets', 'phuong', 'ib', 'chật', 'hô', 'htcb', 'tdt', 'cò', 'lêch', 'sampland', 'đệm', 'quickly', 'eleven', 'zin', 'verde', 'viên', 'balo', 'ấy', 'fix', 'bi', 'kho', 'say', 'lofthouse', 'valleyphú', 'niệm', 'toát', 'lái', 'bo', 'shophous', 'xát', 'nhắn', 'thánglh', 'idicotanphu', 'gan', 'campuchia', 'luô', 'tưới', 'reasonable', 'trieu', 'alo', 'hoạt', 'khuyên', 'tđ', 'side', 'masteri', 'atm', 'riversiden', 'fuji', 'mau', 'lịch', 'page', 'tnr', 'tnhh', 'thố', 'thở', 'luỷ', 'pttt', 'fpt', 'vingroup', 'chắn', 'covers', 'hồi', 'youtu', 'most', 'cresscentmall', 'bt', 'khw', 'sharp', 'need', 'dám', 'tdtt', 'móc', 'tịên', 'tình', 'lô', 'hinh', 'vs', 'via', 'showroom', 'world', 'rõ', 'riverpark', 'choảnh', 'cail', 'má', 'fb', 'orient', 'nạp', 'kingsize', 'ty', 'negotiate', 'dụn', 'belleza', 'ngập', 'quay', 'khúc', 'millennium', 'giương', 'nlmt', 'nhiểu', 'just', 'kbp', 'ốc', 'external', 'available', 'vưc', 'clup', 'tản', 'tâ', 'qc', 'bar', 'likehệ', 'dơ', 'aqua', 'dang', 'dch', 'đệp', 'ρhong', 'sở', 'cúc', 'machine', 'vista', 'bào', 'dãi', 'trưởng', 'đu', 'tokyo', 'cận', 'nhắc', 'kc', 'tử', 'kiêu', 'rổi', 'thắm', 'đuợc', 'acb', 'thiền', 'balô', 'nổi', 'icon', 'chút', 'nằn', 'tinh', 'aparmen', 'circlek', 'gọn', 'vinatext', 'ful', 'thượng', 'fridge', 'phone', 'dịch', 'term', 'trầy', 'chục', 'moto', 'nới', 'dầu', 'electrolux', 'vong', 'bosch', 'yêu', 'hề', 'miếu', 'grant', 'pgd', 'dày', 'décor', 'du', 'deal', 'rong', 'directly', 'bedroome', 'group', 'quên', 'nắm', 'lão', 'chú', 'chuộng', 'vietopia', 'sach', 'sếp', 'mục', 'đợt', 'tiềm', 'đep', 'ngọai', 'bg', 'waseco', 'donald', 'tằng', 'ích', 'đa', 'đời', 'space', 'oto', 'model', 'đia', 'dịp', 'chỉnh', 'nà', 'like', 'trỗi', 'per', 'đãm', 'mọt', 'comfortable', 'thụ', 'bữa', 'cccc', 'rãi', 'newest', 'nọi', 'vietinbank', 'right', 'spar', 'lộn', 'đội', 'gree', 'logic', 'lang', 'exchance', 'copmart', 'vikid', 'bn', 'bửu', 'fastfood', 'thêu', 'vệc', 'nhac', 'moderm', 'thuephong', 'gìa', 'bloody', 'phổ', 'nc', 'đồi', 'câp', 'nhuyễn', 'cơ', 'chiụ', 'miển', 'vnv', 'busy', 'chuổi', 'lý', 'che', 'kingston', 'xác', 'nhập', 'ngờ', 'facebook', 'avenue', 'ptth', 'hotel', 'chuông', 'pass', 'cấρ', 'valey', 'restaurant', 'ting', 'cấm', 'town', 'kết', 'đối', 'into', 'wcs', 'trạch', 'tấp', 'chở', 'cinema', 'bed', 'hít', 'tiêu', 'phấn', 'online', 'hương', 'round', 'toto', 'cung', 'projects', 'xếp', 'hạng', 'dist', 'mốc', 'of', 'trể', 'hư', 'resort', 'dẩn', 'pionte', 'lượt', 'soi', 'đưucọ', 'cô', 'giấy', 'chứa', 'tránh', 'maps', 'ng', 'short', 'đáp', 'cf', 'nguyển', 'thuốc', 'súc', 'systemforroomsunday', 'beautiful', 'cview', 'inches', 'coop', 'valleythuộc', 'elevator', 'hói', 'càn', 'gofd', 'rải', 'rivergate', 'least', 'vk', 'cirkle', 'tần', 'off', 'diêu', 'kv', 'by', 'đề']\n"
     ]
    }
   ],
   "source": [
    "print(a)"
   ]
  },
  {
   "cell_type": "code",
   "execution_count": null,
   "metadata": {},
   "outputs": [],
   "source": []
  }
 ],
 "metadata": {
  "kernelspec": {
   "display_name": "Python 3",
   "language": "python",
   "name": "python3"
  },
  "language_info": {
   "codemirror_mode": {
    "name": "ipython",
    "version": 3
   },
   "file_extension": ".py",
   "mimetype": "text/x-python",
   "name": "python",
   "nbconvert_exporter": "python",
   "pygments_lexer": "ipython3",
   "version": "3.6.6"
  }
 },
 "nbformat": 4,
 "nbformat_minor": 2
}
