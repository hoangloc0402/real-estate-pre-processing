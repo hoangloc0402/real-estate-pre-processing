{
 "cells": [
  {
   "cell_type": "code",
   "execution_count": 1,
   "metadata": {},
   "outputs": [],
   "source": [
    "import re\n",
    "import string\n",
    "import unicodedata"
   ]
  },
  {
   "cell_type": "code",
   "execution_count": 2,
   "metadata": {},
   "outputs": [],
   "source": [
    "token = dict()\n",
    "token['int'] = 'INT'\n",
    "token['float'] = 'FLOAT'\n",
    "token['space'] = ' '\n",
    "token['blank'] = ''\n",
    "vietnamese_chars = ' ABCDEFGHIJKLMNOPQRSTUVWXYZabcdefghijklmnopqrstuvwxyzÀÁÂÃÈÉÊÌÍÒÓÔÕÙÚÝ'\n",
    "vietnamese_chars += 'àáâãèéêìíòóôõùúýĂăĐđĨĩŨũƠơƯưẠạẢảẤấẦầẨẩẪẫẬậẮắẰằẲẳẴẵẶặẸẹẺẻẼẽẾếỀềỂểỄễỆệ'\n",
    "vietnamese_chars += 'ỈỉỊịỌọỎỏỐốỒồỔổỖỗỘộỚớỜờỞởỠỡỢợỤụỦủỨứỪừỬửỮữỰựỲỳỴỵỶỷỸỹ'"
   ]
  },
  {
   "cell_type": "code",
   "execution_count": 3,
   "metadata": {},
   "outputs": [],
   "source": [
    "# \\w = [a-zA-Z0-9_]\n",
    "# \\s = [ \\t\\n\\r\\f\\v]\n",
    "# \\d = [0-9]\n",
    "def remove_special_char(text):    \n",
    "    # remove special character (+-*/_...) with single space   \n",
    "    text = re.sub('[^\\w\\s'+ vietnamese_chars +'\\.]+|[_]+', token['space'], text)   \n",
    "    # remove multi space with single space   \n",
    "    text = re.sub('\\s+', token['space'], text)\n",
    "    return text"
   ]
  },
  {
   "cell_type": "code",
   "execution_count": 4,
   "metadata": {},
   "outputs": [],
   "source": [
    "def add_token(text):\n",
    "    # remove float number with 'FLOAT'\n",
    "    text = re.sub('\\d+[.,]\\d+', token['float'], text)  \n",
    "    # remove int number with 'INT'   \n",
    "    text = re.sub('\\d+', token['int'], text)\n",
    "    return text"
   ]
  },
  {
   "cell_type": "code",
   "execution_count": 5,
   "metadata": {},
   "outputs": [],
   "source": [
    "def clean_text(text):\n",
    "    text = re.sub(\"\\u2013|\\u2014\", \"-\", text)\n",
    "    text = re.sub(\"\\u00D7\", \" x \", text)\n",
    "    text = unicodedata.normalize('NFKC', text)\n",
    "    \n",
    "    for i in string.punctuation: #!\"#$%&'()*+,-./:;<=>?@[\\]^_`{|}~\n",
    "        text = text.replace(i, ' {} '.format(i))\n",
    "        \n",
    "    text = re.sub(r'[^{}\\s\\w]+'.format(string.punctuation), ' ', text)\n",
    "    numbers = re.findall(r'\\d+', text)\n",
    "    text = re.sub(r'\\d+', ' 0 ', text)\n",
    "    # text = re.sub(r'0[ ]*[.,]+[ ]*0', '00', text)\n",
    "    text = re.sub('[\\n\\r]+', ' | ', text)\n",
    "    return re.sub(r'[ ]+', ' ', text), numbers"
   ]
  }
 ],
 "metadata": {
  "kernelspec": {
   "display_name": "Python 3",
   "language": "python",
   "name": "python3"
  },
  "language_info": {
   "codemirror_mode": {
    "name": "ipython",
    "version": 3
   },
   "file_extension": ".py",
   "mimetype": "text/x-python",
   "name": "python",
   "nbconvert_exporter": "python",
   "pygments_lexer": "ipython3",
   "version": "3.6.6"
  }
 },
 "nbformat": 4,
 "nbformat_minor": 2
}
