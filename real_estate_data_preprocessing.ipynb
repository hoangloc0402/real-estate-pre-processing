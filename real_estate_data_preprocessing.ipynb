{
 "cells": [
  {
   "cell_type": "code",
   "execution_count": 193,
   "metadata": {},
   "outputs": [],
   "source": [
    "import re\n",
    "import glob\n",
    "import ast\n",
    "import unicodedata\n",
    "import unicode_utils as uniu"
   ]
  },
  {
   "cell_type": "code",
   "execution_count": 215,
   "metadata": {},
   "outputs": [],
   "source": [
    "token = dict()\n",
    "token['int'] = 'INT'\n",
    "token['float'] = 'FLOAT'\n",
    "token['space'] = ' '\n",
    "token['blank'] = ''\n",
    "vietnamese_chars = ' ABCDEFGHIJKLMNOPQRSTUVWXYZabcdefghijklmnopqrstuvwxyzÀÁÂÃÈÉÊÌÍÒÓÔÕÙÚÝ'\n",
    "vietnamese_chars += 'àáâãèéêìíòóôõùúýĂăĐđĨĩŨũƠơƯưẠạẢảẤấẦầẨẩẪẫẬậẮắẰằẲẳẴẵẶặẸẹẺẻẼẽẾếỀềỂểỄễỆệ'\n",
    "vietnamese_chars += 'ỈỉỊịỌọỎỏỐốỒồỔổỖỗỘộỚớỜờỞởỠỡỢợỤụỦủỨứỪừỬửỮữỰựỲỳỴỵỶỷỸỹ'"
   ]
  },
  {
   "cell_type": "code",
   "execution_count": 217,
   "metadata": {},
   "outputs": [],
   "source": [
    "# \\w = [a-zA-Z0-9_]\n",
    "# \\s = [ \\t\\n\\r\\f\\v]\n",
    "# \\d = [0-9]\n",
    "def remove_special_char(text):    \n",
    "    # remove special character (+-*/_...) with single space   \n",
    "    text = re.sub('[^\\w\\s'+ vietnamese_chars +'\\.]+|[_]+', token['space'], text)   \n",
    "    # remove multi space with single space   \n",
    "    text = re.sub('\\s+', token['space'], text)\n",
    "    return text\n",
    "\n",
    "def add_token(text):\n",
    "    # remove float number with 'FLOAT'\n",
    "    text = re.sub('\\d+[.,]\\d+', token['float'], text)  \n",
    "    # remove int number with 'INT'   \n",
    "    text = re.sub('\\d+', token['int'], text)\n",
    "    return text"
   ]
  },
  {
   "cell_type": "code",
   "execution_count": 195,
   "metadata": {},
   "outputs": [],
   "source": [
    "def txt2dict(text):\n",
    "    return ast.literal_eval(text)\n"
   ]
  },
  {
   "cell_type": "code",
   "execution_count": null,
   "metadata": {},
   "outputs": [],
   "source": [
    "def read_all_txt_file(directiry_path):\n",
    "    txt_files = glob.glob(directiry_path + '/*.txt')\n",
    "#     log_file = open(directiry_path + 'error_log.txt', 'w+')\n",
    "    for file in txt_files:\n",
    "        try:\n",
    "            text = open(file, 'r', encoding = 'utf-8').read()\n",
    "            text = uniu.compound_unicode(text)\n",
    "#             print(file)\n",
    "            yield text\n",
    "        except:\n",
    "#             log_file.write(file)\n",
    "            continue"
   ]
  },
  {
   "cell_type": "code",
   "execution_count": null,
   "metadata": {},
   "outputs": [],
   "source": [
    "def preprocess_data(re_dict):    \n",
    "    domain = re_dict['domain'].split('-')\n",
    "    del re_dict['domain']\n",
    "    re_dict['city'] = domain[0]\n",
    "    re_dict['transaction_type'] = domain[1]\n",
    "    re_dict['real_estate_type'] = ' '.join(domain[2:])\n",
    "    re_dict['description'] = remove_special_char(re_dict['description'])\n",
    "    \n",
    "    print(re_dict['description'], '\\n')\n",
    "#     print(str(re_dict))"
   ]
  },
  {
   "cell_type": "code",
   "execution_count": 216,
   "metadata": {},
   "outputs": [],
   "source": [
    "if __name__ == '__main__':\n",
    "    path = '/home/cpu10133-local/Downloads/test/'\n",
    "    texts = read_all_txt_file(path)\n",
    "    count = 0\n",
    "    for text in texts: \n",
    "        print(count)\n",
    "        count +=1\n",
    "        re_dict = text2dict(text)\n",
    "        preprocess_data(re_dict)"
   ]
  },
  {
   "cell_type": "code",
   "execution_count": null,
   "metadata": {},
   "outputs": [],
   "source": []
  }
 ],
 "metadata": {
  "kernelspec": {
   "display_name": "Python 3",
   "language": "python",
   "name": "python3"
  },
  "language_info": {
   "codemirror_mode": {
    "name": "ipython",
    "version": 3
   },
   "file_extension": ".py",
   "mimetype": "text/x-python",
   "name": "python",
   "nbconvert_exporter": "python",
   "pygments_lexer": "ipython3",
   "version": "3.6.6"
  }
 },
 "nbformat": 4,
 "nbformat_minor": 2
}
