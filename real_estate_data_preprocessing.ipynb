{
 "cells": [
  {
   "cell_type": "code",
   "execution_count": 69,
   "metadata": {},
   "outputs": [],
   "source": [
    "import re\n",
    "import glob\n",
    "import ast"
   ]
  },
  {
   "cell_type": "code",
   "execution_count": 101,
   "metadata": {},
   "outputs": [],
   "source": [
    "token = dict()\n",
    "token['int'] = 'INT'\n",
    "token['float'] = 'FLOAT'\n",
    "token['space'] = ' '\n",
    "token['blank'] = ''\n",
    "vietnamese_chars = 'ÀÁÂÃÈÉÊÌÍÒÓÔÕÙÚĂĐĨŨƠàáâãèéêìíòóôõùúăđĩũơƯĂẠẢẤẦẨẪẬẮẰẲẴẶẸẺẼỀỀỂ '\n",
    "vietnamese_chars +='ưăạảấầẩẫậắằẳẵặẹẻẽềềểỄỆỈỊỌỎỐỒỔỖỘỚỜỞỠỢỤỦỨỪễệỉịọỏốồổỗộớờởỡợụủứừỬỮỰỲỴÝỶỸửữựỳỵỷỹ'"
   ]
  },
  {
   "cell_type": "code",
   "execution_count": 104,
   "metadata": {},
   "outputs": [],
   "source": [
    "# \\w = [a-zA-Z0-9_]\n",
    "# \\s = [ \\t\\n\\r\\f\\v]\n",
    "# \\d = [0-9]\n",
    "def clean_string(s):    \n",
    "    # remove special character (+-*/_...) with single space   \n",
    "    s = re.sub('[^\\w\\s'+ vietnamese_chars +'\\.]+|[_]+', token['blank'], s)   \n",
    "    # remove multi space with single space   \n",
    "    s = re.sub('\\s+', token['space'], s)\n",
    "    return s\n",
    "\n",
    "def add_token(s):\n",
    "    # remove float number with 'FLOAT'\n",
    "    s = re.sub('\\d+[.,]\\d+', token['float'], s)  \n",
    "    # remove int number with 'INT'   \n",
    "    s = re.sub('\\d+', token['int'], s)"
   ]
  },
  {
   "cell_type": "code",
   "execution_count": 107,
   "metadata": {},
   "outputs": [],
   "source": [
    "def txt2dict(text):\n",
    "    return ast.literal_eval(text)\n",
    "\n",
    "def read_all_txt_file(directiry_path):\n",
    "    txt_files = glob.glob(directiry_path + '/*.txt')\n",
    "    log_file = open('error_log.txt', 'w+')\n",
    "    for file in txt_files:\n",
    "        try:\n",
    "            text = open(file, 'r').read()\n",
    "#             file.close()\n",
    "        except:\n",
    "            log_file.write(file)\n",
    "            continue\n",
    "        yield txt2dict(text)\n",
    "        \n",
    "def preprocess_data(re_dict):    \n",
    "    domain = re_dict['domain'].split('-')\n",
    "    del re_dict['domain']\n",
    "    re_dict['city'] = domain[0]\n",
    "    re_dict['transaction_type'] = domain[1]\n",
    "    re_dict['real_estate_type'] = ' '.join(domain[2:])\n",
    "    re_dict['description'] = clean_string(re_dict['description'])\n",
    "#     print(re_dict['description'])\n",
    "    print(str(re_dict))\n",
    "    \n",
    "        "
   ]
  },
  {
   "cell_type": "code",
   "execution_count": 108,
   "metadata": {},
   "outputs": [
    {
     "name": "stdout",
     "output_type": "stream",
     "text": [
      "{'url': 'https://mogi.vn//quan-4/thue-can-ho-chung-cu/cho-thue-can-ho-river-gate-q4-75m2-2pn-gia-24tr-th-nhu-hinh-id20061483', 'tittle': 'Cho thuê căn hộ Hưng Vượng 3 nhà đẹp,  giá cực rẻ', 'address': 'Nguyễn Văn Linh, Phường Tân Phong, Quận 7, TP.HCM', 'price': ': 10 triệu', 'usable_area': ': 78 m', 'area': ':', 'publish_date': ': 07/01/2019', 'real_estate_id': ': 2496292', 'bedroom': ': 2', 'bathroom': ': 1', 'legal_papers': ': Không xác định', 'direction': ': Không xác định', 'description': 'Tôi cần cho thuê gấp căn hộ Hưng Vượng 3 quận 7. Diện tích 78m2. 2 PN. Lầu 06. Khu trung cư công viên xanh thoáng mát gần trung tâm thương mại... Thích hợp ở với 1 nhóm sinh viên hoặc gia đình nhỏ. Tôi thiện chí cho thuê giá 10 triệutháng. Thương lượng với khách thuê lâu dài. Mọi chi tiết xin vui lòng liên hệ 0917 300 798 Ms. Hằng', 'city': 'HCM', 'transaction_type': 'thue', 'real_estate_type': 'can ho'}\n",
      "{'url': 'https://mogi.vn//quan-phu-nhuan/thue-can-ho-penthouse/cho-thue-can-ho-cao-cap-pn-techcons-ngay-trung-tam-phu-nhuan-id20067873', 'tittle': 'Cho thuê căn hộ cao cấp The Park Residence, 62m2, 2PN view đẹp nhà mát', 'address': 'Nguyễn Hữu Thọ, Xã Phước Kiển, Huyện Nhà Bè, TP.HCM', 'price': ': 7 triệu 500 nghìn', 'usable_area': ': 62 m', 'area': ':', 'publish_date': ': 07/01/2019', 'real_estate_id': ': 20345222', 'bedroom': ': 2', 'bathroom': ': 1', 'legal_papers': ': Không xác định', 'direction': ': Đông Nam', 'description': 'Cho thuê căn hộ cao cấp The Park Residence 62m2 2PN view đẹp nhà mát giá 75trth. LH 0978459686 Địa chỉ 12 Nguyễn Hữu Thọ Phước Kiển Nhà Bè TP HCM ngay ngã tư Nguyễn Hữu Thọ và Nguyễn Văn Linh chân cầu Rạch Dĩa DT 62m2 2PN 1WC lầu trung view đẹp Giá 75 triệutháng. Tiện ích căn hộ Hồ bơi chân mây 2000m2 khu vui chơi trẻ em công viên đi bộ khu tiệc nướng BBQ phòng gym siêu thị.... Di chuyển qua các quận trung tâm quận 1478 chỉ mất 15 đến 20 phút xe máy. Trung tâm thương mại Lotte quận 7 SV Vivo City Crescent Mall... Trường mầm non tiểu học trung học cơ sở phổ thông Nam Sài Gòn Quốc Tế Việt Úc Việt Mỹ... LH 0978.459.686 E Hường', 'city': 'HCM', 'transaction_type': 'thue', 'real_estate_type': 'can ho'}\n",
      "{'url': 'https://mogi.vn//quan-4/thue-can-ho-chung-cu/cho-thue-can-ho-river-gate-q4-75m2-2pn-gia-24tr-th-nhu-hinh-id20061483', 'tittle': 'Cho thuê gấp căn hộ Hưng Vượng 2 Phú Mỹ Hưng Q7. DT: 85m2, 2PN 2WC', 'address': 'Nguyễn Lương Bằng, Phường Tân Phú, Quận 7, TP.HCM', 'price': ': 12 triệu', 'usable_area': ': 85 m', 'area': ':', 'publish_date': ': 07/01/2019', 'real_estate_id': ': 20283022', 'bedroom': ': 2', 'bathroom': ': 2', 'legal_papers': ': Không xác định', 'direction': ': Không xác định', 'description': 'Cần cho thuê gấp căn hộ Hưng Vượng 2 Phú Mỹ Hưng Q7. Căn hộ có diện tích 85m2 được thiết kế 2PN 2WC nội thất đầy đủ. Giá cực kỳ tốt 12 trtháng. Hiện tại tôi đang giữ chìa khóa rất nhiều căn. Anh chị có nhu cầu vui lòng LH 0914 241 221 Ms.Thư Rất Hân Hạnh.', 'city': 'HCM', 'transaction_type': 'thue', 'real_estate_type': 'can ho'}\n",
      "{'url': 'https://mogi.vn//quan-phu-nhuan/thue-can-ho-chung-cu/cho-thue-can-ho-42m2-du-an-garden-gate-1-pn-gia-12-tr-thang-id20072123', 'tittle': 'Chính chủ cho thuê căn hộ The Park Residence 1PN-52m2.', 'address': 'Nguyễn Hữu Thọ, Xã Phước Kiển, Huyện Nhà Bè, TP.HCM', 'price': ': 7 triệu', 'usable_area': ': 52 m', 'area': ':', 'publish_date': ': 07/01/2019', 'real_estate_id': ': 20344072', 'bedroom': ': 1', 'bathroom': ': 1', 'legal_papers': ': Không xác định', 'direction': ': Đông Nam', 'description': 'Chung cư The Park Residence Nguyễn Hữu Thọ cho thuê căn hộ. Diện tích 52m2 với thiết kế 1PN 1WC. Nhà trống 7 triệutháng Full nội thất 8 triệutháng. Tiện ích Cách SC Vivo City 500m. Cách Lotte Mark Quận 7 15km. Cách Quận 1 15 phút đi xe gắn máy. Tiện ích thêm Đơn vị quản lý tòa nhà CBRE hàng đầu thế giới. Hồ bơi chân mây rộng 2000m2 Khách thuê sẽ được tặng thẻ bơi. Khu BBQ và tiệc ngoài trời. Liên hệ E Hường 0978.459.686 để xem nhà 2424 xem chính xác căn cần thuê.', 'city': 'HCM', 'transaction_type': 'thue', 'real_estate_type': 'can ho'}\n",
      "{'url': 'https://mogi.vn//quan-phu-nhuan/thue-can-ho-dich-vu/can-ho-25m2-full-nt-nguyen-van-troi-phu-nhuan-id20287666', 'tittle': 'Căn hộ 50m2, phòng ngủ riêng full tiện nghi đường Thăng Long TB', 'address': 'Thăng Long, Phường 4, Quận Tân Bình, TP.HCM', 'price': ': 10 triệu', 'usable_area': ': 50 m', 'area': ':', 'publish_date': ': 07/01/2019', 'real_estate_id': ': 20342287', 'bedroom': ': 1', 'bathroom': ': 1', 'legal_papers': ': Không xác định', 'direction': ': Không xác định', 'description': 'Bạn đang muôn thay đôi môi trương sông Chô ơ hiên tai cua ban không an ninh Ban muôn tim kiêm môt nơi ơ mơi thuân tiên cho công viêc cua ban va viêc sinh hoat hăng ngay Tôi xin giơi thiêu tơi cac ban căn hô mơi ngay vi tri đăc đia Đia chi Đương Thăng Long p4 Tân Binh Nằm ngay trung tâm quận Tân Binh chi cach sân bay 5p va thuân tiên cho ban di chuyên qua cac quân trung tâm. Chúng tôi cung cấp cho bạn căn hộ 1PN riêng Đây đu tiên nghi cao câp Ban công thoang mat cho ban luôn co cam giac thư gian trong chinh ngôi nha cua minh Bêp riêng rông rai cho ban thoai mai thoa sưc nâu ăn Về giờ giấc tự do Mot nơi đam bao vê an ninh tuyêt đôi chăt che bao vê 2424 camera xung quanh toa nha.. Ra vao sư dung dâu vân taythe tư sẽ sang trọng và thoải mái hơn khi trải nghiệm... Giá thuê bất ngờ Căn hộ 1PN chỉ từ 10tr Lh chinh chu 0968 426 018', 'city': 'HCM', 'transaction_type': 'thue', 'real_estate_type': 'can ho'}\n",
      "{'url': 'https://mogi.vn//quan-phu-nhuan/thue-can-ho-chung-cu/cho-thue-can-ho-42m2-du-an-garden-gate-1-pn-gia-12-tr-thang-id20072123', 'tittle': 'Cần cho thuê gấp căn hộ Green Valley PMH Q7, DT: 89m2, 2PN giá rẻ nhất', 'address': 'Nguyễn Đổng Chi, Phường Tân Phú, Quận 7, TP.HCM', 'price': ': 18 triệu', 'usable_area': ': 89 m', 'area': ':', 'publish_date': ': 07/01/2019', 'real_estate_id': ': 20246520', 'bedroom': ': 2', 'bathroom': ': 2', 'legal_papers': ': Không xác định', 'direction': ': Không xác định', 'description': 'Chủ nhà không ở cho thuê nhanh căn hộ Green Valley Phú Mỹ Hưng quận 7. Diện tích 89m2 gồm 2 phòng ngủ 2 WC nội thất đầy đủ. Giá tốt chỉ 18 triệutháng. Xem hình thật. Liên hệ hotline0918850186 Em Hiên', 'city': 'HCM', 'transaction_type': 'thue', 'real_estate_type': 'can ho'}\n",
      "{'url': 'https://mogi.vn//quan-phu-nhuan/thue-can-ho-chung-cu/cho-thue-can-ho-42m2-du-an-garden-gate-1-pn-gia-12-tr-thang-id20072123', 'tittle': 'Hot căn hộ 52m2 gần full nội thất cho thuê 8tr/tháng', 'address': 'Nguyễn Hữu Thọ, Xã Phước Kiển, Huyện Nhà Bè, TP.HCM', 'price': ': 8 triệu', 'usable_area': ': 52 m', 'area': ':', 'publish_date': ': 07/01/2019', 'real_estate_id': ': 20343403', 'bedroom': ': 1', 'bathroom': ': 1', 'legal_papers': ': Không xác định', 'direction': ': Đông Nam', 'description': 'Hiện tạibên em đang có 1 số căn hộ giá tốt muốn cho thuê lại.Chung cư The Park ResidenceNgay mặt tiền Nguyễn Hữu ThọMất chỉ 57 phút đến ĐH Tôn Đức Thắngvà 10 phút đến Lotte Quận 7. Thông tin căn hộ Căn hộ 52m2 gần full nội thất Giá 8 triệutháng Tiện ích hiện hữu tại chung cưCó hồ bơi tràn 2000m2công viênchòi BBQphòng tập Gymchỗ đón xetrạm xe buýtsiêu thị Khu an ninh bảo vệ 2424 Anhchị quan tâm vui lòng LH 0978.459.686 gặp E Hường tư vấn xem nhà 2424. Xin cảm ơn', 'city': 'HCM', 'transaction_type': 'thue', 'real_estate_type': 'can ho'}\n",
      "{'url': 'https://mogi.vn//quan-4/thue-can-ho-chung-cu/cho-thue-can-ho-river-gate-q4-75m2-2pn-gia-24tr-th-nhu-hinh-id20061483', 'tittle': 'Cho thuê căn hộ Himlam Riverside Q7 TPHCM', 'address': 'Đường D, Phường Tân Hưng, Quận 7, TP.HCM', 'price': ': 15 triệu 500 nghìn', 'usable_area': ': 78 m', 'area': ':', 'publish_date': ': 07/01/2019', 'real_estate_id': ': 20077681', 'bedroom': ': 2', 'bathroom': ': 2', 'legal_papers': ': Không xác định', 'direction': ': Không xác định', 'description': 'Cho thuê căn hộ Himlam Riversidefull nội thất2 phòng ngủ2wcgiá 155 trthánglh 0909636603 gặp Hải', 'city': 'HCM', 'transaction_type': 'thue', 'real_estate_type': 'can ho'}\n",
      "{'url': 'https://mogi.vn//huyen-nha-be/thue-can-ho-chung-cu/cho-thue-can-ho-cao-cap-hoang-anh-an-tien-7tr-thang-id2510974', 'tittle': 'Chuyên cho thuê những căn hộ giá tốt nhất The Park Residence.', 'address': 'Nguyễn Hữu Thọ, Xã Phước Kiển, Huyện Nhà Bè, TP.HCM', 'price': ': 7 triệu', 'usable_area': ': 52 m', 'area': ':', 'publish_date': ': 07/01/2019', 'real_estate_id': ': 20328004', 'bedroom': ': 1', 'bathroom': ': 1', 'legal_papers': ': Không xác định', 'direction': ': Không xác định', 'description': 'Bên em chuyên cho thuê tại khu vực quận 7 Nhà Bè. Dự án The Park Residence Ngay mặt tiền Nguyễn Hữu Thọ liền kề Quận 7 chỉ mất có 5 phút đi xe máy. Thông tin căn hộ 1. Căn hộ 52m2 1PN 1WC. Nhà trống 7 triệutháng. Nội thất căn bản 8.5 triệutháng 3 máy lạnh kệ tủ bếp bếp. Đầy đủ nội thất 10 triệutháng. 2. Căn hộ 58m2 62m2 với 2PN 1WC. Nhà trống 7.5 8 triệutháng. Nội thất căn bản 9 triệutháng 3 máy lạnh kệ tủ bếp bếp. Đầy đủ nội thất 11 triệutháng. 3. Căn hộ 73m2 với 2PN 2WC. Nhà trông 8.5 triệutháng. Nội thất căn bản 10 triệutháng 3 máy lạnh kệ tủ bếp bếp. Đầy đủ nội thất 12 triệutháng. 4. Căn hộ 106m2 với 3PN 2WC. Nhà trống 9.5 triệutháng. Nội thất căn bản 12 triệutháng 4 máy lạnh kệ tủ bếp bếp. Đầy đủ nội thất 15 triệutháng. Khu căn hộ có hồ bơi tràn rộng hơn 2000m2 công viên chuỗi siêu thị quán cà phê chỗ chờ xe ô tô trạm xe buýt... Vậy anh chị có nhu cầu liên hệ em Hường 0978459686', 'city': 'HCM', 'transaction_type': 'thue', 'real_estate_type': 'can ho'}\n",
      "{'url': 'https://mogi.vn//quan-7/thue-can-ho-chung-cu/cho-thue-rat-gap-can-ho-sky-garden-3-nha-dep-gia-tot-id2428050', 'tittle': 'Cần cho thuê căn hộ Garden Court 1, Phú Mỹ Hưng, Q7.', 'address': 'Đường P, Phường Tân Phong, Quận 7, TP.HCM', 'price': ': 25 triệu', 'usable_area': ': 145 m', 'area': ':', 'publish_date': ': 07/01/2019', 'real_estate_id': ': 2516662', 'bedroom': ': 3', 'bathroom': ': 2', 'legal_papers': ': Không xác định', 'direction': ': Không xác định', 'description': 'Cần cho thuê căn hộ Garden Court 1 Phú Mỹ Hưng Q7 Diện tích 141m2 thiết kế 3 phòng ngủ 2 toilet nhà đẹp full nội thất cao cấp ban công phòng khách thoáng mát lầu cao view Kênh Đào yên tĩnh. Gần công viên nhiều cây xanh không khí trong lành an ninh 247. Căn hộ nằm trong trung tâm của Phú Mỹ Hưng cách trung tâm quận 1 chỉ 10 phút đi xe với nhiều công viên rộng đến 20.000m2 và được bao quanh bởi sông nước. Chỉ mất 5 phút đến hệ thống trường học Quốc tế Canada Hàn Quốc Nhật Bản Đài Bắc Nam Sài Gòn. Từ nhà mất vài phút đến siêu thị TTTM hồ Bán Nguyệt triển lãm SECC. Trung tâm hành chính quận 7 Parkson Paragon Uniclever Crescent Mall.. Giá thuê 25 trtháng. Liên hệ xem nhà 0917 300 798 Ms.Hằng', 'city': 'HCM', 'transaction_type': 'thue', 'real_estate_type': 'can ho'}\n",
      "{'url': 'https://mogi.vn//quan-phu-nhuan/thue-can-ho-chung-cu/cho-thue-can-ho-42m2-du-an-garden-gate-1-pn-gia-12-tr-thang-id20072123', 'tittle': 'Cho thuê căn hộ Florita Q7 diện tích 70m2 giá 14tr/tháng,.,,', 'address': 'Đường D4, Phường Tân Hưng, Quận 7, TP.HCM', 'price': ': 14 triệu', 'usable_area': ': 70 m', 'area': ':', 'publish_date': ': 07/01/2019', 'real_estate_id': ': 20157205', 'bedroom': ': 2', 'bathroom': ': 2', 'legal_papers': ': Không xác định', 'direction': ': Không xác định', 'description': 'Cho thuê căn hộ Florita Q7 diện tích 70m2 nội thất cơ bản có máy lạnh máy nước nóng giá thuê 14trtháng nhanh tay lh 0933254995 gặp Nguyên để xem ngay', 'city': 'HCM', 'transaction_type': 'thue', 'real_estate_type': 'can ho'}\n"
     ]
    }
   ],
   "source": [
    "path = '/home/cpu10133-local/Downloads/test/'\n",
    "re_dicts = read_all_txt_file(path)\n",
    "for re_dict in re_dicts: \n",
    "    preprocess_data(re_dict)"
   ]
  },
  {
   "cell_type": "code",
   "execution_count": null,
   "metadata": {},
   "outputs": [],
   "source": []
  },
  {
   "cell_type": "code",
   "execution_count": null,
   "metadata": {},
   "outputs": [],
   "source": []
  },
  {
   "cell_type": "code",
   "execution_count": null,
   "metadata": {},
   "outputs": [],
   "source": []
  }
 ],
 "metadata": {
  "kernelspec": {
   "display_name": "Python 3",
   "language": "python",
   "name": "python3"
  },
  "language_info": {
   "codemirror_mode": {
    "name": "ipython",
    "version": 3
   },
   "file_extension": ".py",
   "mimetype": "text/x-python",
   "name": "python",
   "nbconvert_exporter": "python",
   "pygments_lexer": "ipython3",
   "version": "3.6.6"
  }
 },
 "nbformat": 4,
 "nbformat_minor": 2
}
