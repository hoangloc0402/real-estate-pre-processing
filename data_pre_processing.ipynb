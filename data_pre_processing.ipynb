{
 "cells": [
  {
   "cell_type": "code",
   "execution_count": 10,
   "metadata": {},
   "outputs": [],
   "source": [
    "import glob\n",
    "import ast\n",
    "import data_utils\n",
    "import unicode_utils "
   ]
  },
  {
   "cell_type": "markdown",
   "metadata": {},
   "source": [
    "# PRE PROCESS FOR LANGUAGE MODEL"
   ]
  },
  {
   "cell_type": "code",
   "execution_count": 11,
   "metadata": {},
   "outputs": [],
   "source": [
    "def preprocess_text_for_languade_model(text):  \n",
    "    "
   ]
  },
  {
   "cell_type": "code",
   "execution_count": 3,
   "metadata": {},
   "outputs": [
    {
     "ename": "ModuleNotFoundError",
     "evalue": "No module named 'fastai'",
     "output_type": "error",
     "traceback": [
      "\u001b[1;31m---------------------------------------------------------------------------\u001b[0m",
      "\u001b[1;31mModuleNotFoundError\u001b[0m                       Traceback (most recent call last)",
      "\u001b[1;32m<ipython-input-3-55ea5f35b797>\u001b[0m in \u001b[0;36m<module>\u001b[1;34m\u001b[0m\n\u001b[1;32m----> 1\u001b[1;33m \u001b[1;32mfrom\u001b[0m \u001b[0mfastai\u001b[0m\u001b[1;33m.\u001b[0m\u001b[0mtext\u001b[0m \u001b[1;32mimport\u001b[0m \u001b[1;33m*\u001b[0m\u001b[1;33m\u001b[0m\u001b[1;33m\u001b[0m\u001b[0m\n\u001b[0m",
      "\u001b[1;31mModuleNotFoundError\u001b[0m: No module named 'fastai'"
     ]
    }
   ],
   "source": [
    "from fastai.text import *"
   ]
  },
  {
   "cell_type": "code",
   "execution_count": 14,
   "metadata": {},
   "outputs": [],
   "source": [
    "# path = '/home/cpu10133-local/Downloads/HCM-thue-can-ho/'\n",
    "# path = '/home/cpu10133-local/Downloads/test/'\n",
    "# texts = data_utils.read_all_txt_file(path)\n",
    "# count = 0\n",
    "# temp_text = ''\n",
    "# new_doc_token = ' ndk '\n",
    "# import time\n",
    "# file = open(\"/home/cpu10133-local/Downloads/combine.txt\",\"w+\") \n",
    "# for text in texts: \n",
    "#     print(count)\n",
    "#     count +=1\n",
    "#     re_dict = data_utils.txt2dict(text)\n",
    "#     temp_text = preprocess_data_for_languade_model(re_dict)\n",
    "#     file.write(temp_text + new_doc_token)\n",
    "#     time.sleep(0.001)\n",
    "# file.close()"
   ]
  },
  {
   "cell_type": "markdown",
   "metadata": {},
   "source": [
    "# READ RAW ARTICLES AND PUSH INTO MONGODB"
   ]
  },
  {
   "cell_type": "code",
   "execution_count": 9,
   "metadata": {},
   "outputs": [
    {
     "name": "stdout",
     "output_type": "stream",
     "text": [
      "HCM-mua-can-ho\n",
      "HCM-mua-dat\n",
      "HCM-mua-mat-bang-cua-hang-shop\n",
      "HCM-mua-nha\n",
      "HCM-thue-mat-bang-cua-hang-shop\n",
      "HCM-thue-nha\n",
      "HCM-thue-nha-xuong-kho-bai-dat\n",
      "HCM-thue-phong-tro-nha-tro\n",
      "HCM-thue-van-phong\n",
      "HN-mua-can-ho\n",
      "HN-mua-dat\n",
      "HN-mua-mat-bang-cua-hang-shop\n",
      "HN-mua-nha\n",
      "HN-thue-can-ho\n",
      "HN-thue-mat-bang-cua-hang-shop\n",
      "HN-thue-nha\n",
      "HN-thue-nha-xuong-kho-bai-dat\n",
      "HN-thue-phong-tro-nha-tro\n",
      "HN-thue-van-phong\n"
     ]
    }
   ],
   "source": [
    "from pymongo import MongoClient\n",
    "client = MongoClient('localhost', 27017)\n",
    "db = client['real_estate_data']\n",
    "collection = db['real_estate_raw_articles']\n",
    "\n",
    "home_dir = 'D:/Data/Raw Real Estate data/mogi/'\n",
    "paths = ['HCM-mua-can-ho','HCM-mua-dat','HCM-mua-mat-bang-cua-hang-shop','HCM-mua-nha',\n",
    "         'HCM-thue-mat-bang-cua-hang-shop','HCM-thue-nha','HCM-thue-nha-xuong-kho-bai-dat',\n",
    "         'HCM-thue-phong-tro-nha-tro','HCM-thue-van-phong','HN-mua-can-ho','HN-mua-dat',\n",
    "         'HN-mua-mat-bang-cua-hang-shop','HN-mua-nha','HN-thue-can-ho','HN-thue-mat-bang-cua-hang-shop',\n",
    "         'HN-thue-nha','HN-thue-nha-xuong-kho-bai-dat','HN-thue-phong-tro-nha-tro','HN-thue-van-phong']\n",
    "for path in paths:\n",
    "    texts = data_utils.read_all_txt_file(home_dir + path)\n",
    "    print(path)\n",
    "    for text in texts:\n",
    "        re_dict = data_utils.txt2dict(text)\n",
    "        domain = re_dict['domain'].split('-')\n",
    "        re_dict['city'] = domain[0]\n",
    "        re_dict['transaction_type'] = domain[1]\n",
    "        re_dict['real_estate_type'] = \" \".join(domain[2:])\n",
    "        del re_dict['domain']\n",
    "        collection.insert_one(re_dict)"
   ]
  },
  {
   "cell_type": "markdown",
   "metadata": {},
   "source": [
    "# READ RAW DATA FOR LANGUADE MODEL AND PUSH INTO MONGODB"
   ]
  },
  {
   "cell_type": "code",
   "execution_count": 20,
   "metadata": {},
   "outputs": [],
   "source": [
    "from pymongo import MongoClient\n",
    "client = MongoClient('localhost', 27017)\n",
    "db = client['real_estate_data']\n",
    "raw_articles_collection = db['real_estate_raw_articles']\n",
    "raw_data_LM_collection = db['real_estate_LM_raw_data']"
   ]
  },
  {
   "cell_type": "code",
   "execution_count": 21,
   "metadata": {},
   "outputs": [],
   "source": [
    "for doc in raw_articles_collection.find():\n",
    "    text = doc['tittle'] + '. ' + doc['address'] + '. ' + doc['description']\n",
    "    lm_dict = dict()\n",
    "    lm_dict['str'] = text\n",
    "    raw_data_LM_collection.insert_one(lm_dict)"
   ]
  },
  {
   "cell_type": "code",
   "execution_count": null,
   "metadata": {},
   "outputs": [],
   "source": []
  }
 ],
 "metadata": {
  "kernelspec": {
   "display_name": "Python 3",
   "language": "python",
   "name": "python3"
  },
  "language_info": {
   "codemirror_mode": {
    "name": "ipython",
    "version": 3
   },
   "file_extension": ".py",
   "mimetype": "text/x-python",
   "name": "python",
   "nbconvert_exporter": "python",
   "pygments_lexer": "ipython3",
   "version": "3.7.2"
  }
 },
 "nbformat": 4,
 "nbformat_minor": 2
}
