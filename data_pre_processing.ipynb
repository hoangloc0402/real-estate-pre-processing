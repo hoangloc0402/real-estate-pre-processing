{
 "cells": [
  {
   "cell_type": "code",
   "execution_count": 250,
   "metadata": {},
   "outputs": [],
   "source": [
    "import glob\n",
    "import ast\n",
    "import data_utils\n",
    "import unicode_utils "
   ]
  },
  {
   "cell_type": "code",
   "execution_count": 251,
   "metadata": {},
   "outputs": [],
   "source": [
    "def txt2dict(text):\n",
    "    return ast.literal_eval(text)"
   ]
  },
  {
   "cell_type": "code",
   "execution_count": 252,
   "metadata": {},
   "outputs": [],
   "source": [
    "def read_all_txt_file(directiry_path):\n",
    "    txt_files = glob.glob(directiry_path + '/*.txt')\n",
    "#     log_file = open(directiry_path + 'error_log.txt', 'w+')\n",
    "    for file in txt_files:\n",
    "        try:\n",
    "            text = open(file, 'r', encoding = 'utf-8').read()\n",
    "            text = unicode_utils.compound2unicode(text)\n",
    "#             print(file)\n",
    "            yield text\n",
    "        except:\n",
    "#             log_file.write(file)\n",
    "            continue"
   ]
  },
  {
   "cell_type": "code",
   "execution_count": 253,
   "metadata": {},
   "outputs": [],
   "source": [
    "def preprocess_data(re_dict):    \n",
    "    domain = re_dict['domain'].split('-')\n",
    "    del re_dict['domain']\n",
    "    re_dict['city'] = domain[0]\n",
    "    re_dict['transaction_type'] = domain[1]\n",
    "    re_dict['real_estate_type'] = ' '.join(domain[2:])\n",
    "    re_dict['description'] = remove_special_char(re_dict['description'])\n",
    "    \n",
    "    print(re_dict['description'], '\\n')\n",
    "#     print(str(re_dict))"
   ]
  },
  {
   "cell_type": "code",
   "execution_count": null,
   "metadata": {},
   "outputs": [],
   "source": [
    "if __name__ == '__main__':\n",
    "    path = '/home/cpu10133-local/Downloads/test/'\n",
    "    texts = read_all_txt_file(path)\n",
    "    count = 0\n",
    "    for text in texts: \n",
    "        print(count)\n",
    "        count +=1\n",
    "        re_dict = text2dict(text)\n",
    "        preprocess_data(re_dict)"
   ]
  },
  {
   "cell_type": "markdown",
   "metadata": {},
   "source": [
    "# TEST SECTION"
   ]
  },
  {
   "cell_type": "code",
   "execution_count": 255,
   "metadata": {},
   "outputs": [],
   "source": [
    "# f = open('/home/cpu10133-local/Downloads/test/123.txt', 'r', encoding = 'utf-8')\n",
    "# s = f.read()\n",
    "# s = txt2dict(s)\n",
    "# s = s['description']"
   ]
  },
  {
   "cell_type": "code",
   "execution_count": 256,
   "metadata": {},
   "outputs": [],
   "source": [
    "# print(s)"
   ]
  },
  {
   "cell_type": "code",
   "execution_count": 257,
   "metadata": {},
   "outputs": [],
   "source": [
    "# print(clean_text(s))"
   ]
  }
 ],
 "metadata": {
  "kernelspec": {
   "display_name": "Python 3",
   "language": "python",
   "name": "python3"
  },
  "language_info": {
   "codemirror_mode": {
    "name": "ipython",
    "version": 3
   },
   "file_extension": ".py",
   "mimetype": "text/x-python",
   "name": "python",
   "nbconvert_exporter": "python",
   "pygments_lexer": "ipython3",
   "version": "3.6.6"
  }
 },
 "nbformat": 4,
 "nbformat_minor": 2
}
