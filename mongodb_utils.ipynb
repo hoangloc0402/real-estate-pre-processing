{
 "cells": [
  {
   "cell_type": "code",
   "execution_count": 15,
   "metadata": {},
   "outputs": [],
   "source": [
    "import pymongo\n",
    "import ast\n",
    "import glob, os\n",
    "from pymongo import MongoClient"
   ]
  },
  {
   "cell_type": "code",
   "execution_count": 16,
   "metadata": {},
   "outputs": [],
   "source": [
    "client = MongoClient('localhost', 27017)\n",
    "db = client['real_estate_dbs']\n",
    "collection = db['real_estate_collection']"
   ]
  },
  {
   "cell_type": "code",
   "execution_count": 17,
   "metadata": {},
   "outputs": [],
   "source": [
    "root_path='D:/Data/Raw Real Estate data/mogi/'"
   ]
  },
  {
   "cell_type": "code",
   "execution_count": 1,
   "metadata": {},
   "outputs": [],
   "source": [
    "# count = 0\n",
    "# os.chdir(root_path)\n",
    "# for root, dirs, files in os.walk(root_path):\n",
    "#     for file in files:\n",
    "#         if file.endswith('.txt'): \n",
    "#             count +=1\n",
    "#             if count <105974: \n",
    "#                 continue\n",
    "#             print(str(count), str(root),str(dirs)[:-2], str(file))\n",
    "#             raw = open(str(root) + str(dirs)[:-2] + '/' + file, \"r\", encoding=\"utf-8\", errors='ignore').read()\n",
    "#             re_dict = ast.literal_eval(raw)\n",
    "            \n",
    "            \n",
    "#             domain = re_dict['domain'].split('-')\n",
    "#             re_dict['city'] = domain[0]\n",
    "#             re_dict['transaction_type'] = domain[1]\n",
    "#             re_dict['real_estate_type'] = \" \".join(domain[2:])\n",
    "#             collection.insert_one(re_dict)"
   ]
  },
  {
   "cell_type": "code",
   "execution_count": null,
   "metadata": {},
   "outputs": [],
   "source": []
  }
 ],
 "metadata": {
  "kernelspec": {
   "display_name": "Python 3",
   "language": "python",
   "name": "python3"
  },
  "language_info": {
   "codemirror_mode": {
    "name": "ipython",
    "version": 3
   },
   "file_extension": ".py",
   "mimetype": "text/x-python",
   "name": "python",
   "nbconvert_exporter": "python",
   "pygments_lexer": "ipython3",
   "version": "3.7.2"
  }
 },
 "nbformat": 4,
 "nbformat_minor": 2
}
